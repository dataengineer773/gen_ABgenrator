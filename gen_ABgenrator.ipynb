{
 "cells": [
  {
   "cell_type": "code",
   "execution_count": 1,
   "id": "b45b583c-380f-454d-89dd-c8e58366e1a5",
   "metadata": {},
   "outputs": [],
   "source": [
    "def gen_AB():\n",
    "    print('start')\n",
    "    yield'A'\n",
    "    print('countinue')\n",
    "    yield'B'\n",
    "    print('end.')"
   ]
  },
  {
   "cell_type": "code",
   "execution_count": 2,
   "id": "23835287-080f-4065-ad34-ab927978b482",
   "metadata": {},
   "outputs": [
    {
     "name": "stdout",
     "output_type": "stream",
     "text": [
      "start\n",
      "countinue\n",
      "end.\n"
     ]
    }
   ],
   "source": [
    "res1 = [x*3 for x in gen_AB()]"
   ]
  },
  {
   "cell_type": "code",
   "execution_count": 3,
   "id": "2373cca8-6db7-49d8-8939-b332d26366d3",
   "metadata": {},
   "outputs": [
    {
     "name": "stdout",
     "output_type": "stream",
     "text": [
      "--> AAA\n",
      "--> BBB\n"
     ]
    }
   ],
   "source": [
    "for i in res1:\n",
    "    print('-->', i)"
   ]
  },
  {
   "cell_type": "code",
   "execution_count": 4,
   "id": "8b4d2bb7-ce4d-45ac-9b5a-43444e3bc3cb",
   "metadata": {},
   "outputs": [],
   "source": [
    "res2 = (x*3 for x in gen_AB())"
   ]
  },
  {
   "cell_type": "code",
   "execution_count": 5,
   "id": "cd42771c-310d-40fd-8fee-5d83c188a8a3",
   "metadata": {},
   "outputs": [
    {
     "data": {
      "text/plain": [
       "<generator object <genexpr> at 0x00000188BA2041E0>"
      ]
     },
     "execution_count": 5,
     "metadata": {},
     "output_type": "execute_result"
    }
   ],
   "source": [
    "res2"
   ]
  },
  {
   "cell_type": "code",
   "execution_count": 6,
   "id": "d128d880-78e2-4de1-ad61-d6788623f60d",
   "metadata": {},
   "outputs": [
    {
     "name": "stdout",
     "output_type": "stream",
     "text": [
      "start\n",
      "--> AAA\n",
      "countinue\n",
      "--> BBB\n",
      "end.\n"
     ]
    }
   ],
   "source": [
    "for i in res2:\n",
    "    print('-->', i)"
   ]
  },
  {
   "cell_type": "code",
   "execution_count": null,
   "id": "26139cad-1212-4212-81df-d7e775edd928",
   "metadata": {},
   "outputs": [],
   "source": []
  }
 ],
 "metadata": {
  "kernelspec": {
   "display_name": "Python 3 (ipykernel)",
   "language": "python",
   "name": "python3"
  },
  "language_info": {
   "codemirror_mode": {
    "name": "ipython",
    "version": 3
   },
   "file_extension": ".py",
   "mimetype": "text/x-python",
   "name": "python",
   "nbconvert_exporter": "python",
   "pygments_lexer": "ipython3",
   "version": "3.12.3"
  }
 },
 "nbformat": 4,
 "nbformat_minor": 5
}
